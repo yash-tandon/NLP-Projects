{
 "cells": [
  {
   "cell_type": "code",
   "execution_count": 1,
   "id": "10fb46b7",
   "metadata": {
    "_cell_guid": "b1076dfc-b9ad-4769-8c92-a6c4dae69d19",
    "_uuid": "8f2839f25d086af736a60e9eeb907d3b93b6e0e5",
    "execution": {
     "iopub.execute_input": "2025-03-15T13:56:17.082964Z",
     "iopub.status.busy": "2025-03-15T13:56:17.082685Z",
     "iopub.status.idle": "2025-03-15T13:56:29.497274Z",
     "shell.execute_reply": "2025-03-15T13:56:29.496614Z"
    },
    "papermill": {
     "duration": 12.420443,
     "end_time": "2025-03-15T13:56:29.498885",
     "exception": false,
     "start_time": "2025-03-15T13:56:17.078442",
     "status": "completed"
    },
    "tags": []
   },
   "outputs": [],
   "source": [
    "import numpy as np\n",
    "import pandas as pd\n",
    "import os\n",
    "import librosa\n",
    "from tensorflow.keras.preprocessing.sequence import pad_sequences\n",
    "#from sklearn.preprocessing import LabelEncoder\n",
    "from tensorflow.keras.preprocessing.text import Tokenizer\n",
    "from tensorflow.keras.utils import to_categorical\n",
    "#from sklearn.model_selection import train_test_split\n",
    "from tensorflow.keras.models import Model\n",
    "from tensorflow.keras.layers import Input, LSTM, Dense\n",
    "import tensorflow as tf"
   ]
  },
  {
   "cell_type": "code",
   "execution_count": 2,
   "id": "6b7a7522",
   "metadata": {
    "execution": {
     "iopub.execute_input": "2025-03-15T13:56:29.506130Z",
     "iopub.status.busy": "2025-03-15T13:56:29.505701Z",
     "iopub.status.idle": "2025-03-15T13:56:29.509106Z",
     "shell.execute_reply": "2025-03-15T13:56:29.508481Z"
    },
    "papermill": {
     "duration": 0.007869,
     "end_time": "2025-03-15T13:56:29.510167",
     "exception": false,
     "start_time": "2025-03-15T13:56:29.502298",
     "status": "completed"
    },
    "tags": []
   },
   "outputs": [],
   "source": [
    "# The dataset used is the common voice dataset from Mozilla. It is readily available on Kaggle\n",
    "\n",
    "train_X_path = \"/kaggle/input/common-voice/cv-valid-train\"\n",
    "train_y_path = \"/kaggle/input/common-voice/cv-valid-train.csv\"\n",
    "\n",
    "test_X_path = \"/kaggle/input/common-voice/cv-valid-test\"\n",
    "test_y_path = \"/kaggle/input/common-voice/cv-valid-test.csv\""
   ]
  },
  {
   "cell_type": "code",
   "execution_count": 3,
   "id": "b9668a8a",
   "metadata": {
    "execution": {
     "iopub.execute_input": "2025-03-15T13:56:29.516373Z",
     "iopub.status.busy": "2025-03-15T13:56:29.516166Z",
     "iopub.status.idle": "2025-03-15T13:56:30.342009Z",
     "shell.execute_reply": "2025-03-15T13:56:30.341264Z"
    },
    "papermill": {
     "duration": 0.830553,
     "end_time": "2025-03-15T13:56:30.343504",
     "exception": false,
     "start_time": "2025-03-15T13:56:29.512951",
     "status": "completed"
    },
    "tags": []
   },
   "outputs": [],
   "source": [
    "X_train = []\n",
    "y_train = []\n",
    "X_val = []\n",
    "y_val= []\n",
    "X_test = []\n",
    "y_test = []\n",
    "\n",
    "\n",
    "df = pd.read_csv(train_y_path)\n",
    "x=0\n",
    "for index, row in df.iterrows():\n",
    "    X_train.append(os.path.join(train_X_path, row['filename']))\n",
    "    y_train.append(row['text'])\n",
    "    x = x + 1\n",
    "    if x == 3000:\n",
    "        break\n",
    "\n",
    "df = pd.read_csv(test_y_path)\n",
    "x=0\n",
    "for index, row in df.iterrows():\n",
    "    X_test.append(os.path.join(test_X_path, row['filename']))\n",
    "    y_test.append(row['text'])\n",
    "    x = x + 1\n",
    "    if x == 500:\n",
    "        break"
   ]
  },
  {
   "cell_type": "code",
   "execution_count": 4,
   "id": "cbfad4fb",
   "metadata": {
    "execution": {
     "iopub.execute_input": "2025-03-15T13:56:30.350677Z",
     "iopub.status.busy": "2025-03-15T13:56:30.350321Z",
     "iopub.status.idle": "2025-03-15T13:56:30.354196Z",
     "shell.execute_reply": "2025-03-15T13:56:30.353208Z"
    },
    "papermill": {
     "duration": 0.00892,
     "end_time": "2025-03-15T13:56:30.355572",
     "exception": false,
     "start_time": "2025-03-15T13:56:30.346652",
     "status": "completed"
    },
    "tags": []
   },
   "outputs": [],
   "source": [
    "# Config\n",
    "SAMPLE_RATE = 16000\n",
    "N_MELS = 80\n",
    "MAX_AUDIO_LEN = 4000\n",
    "MAX_TEXT_LEN = 133"
   ]
  },
  {
   "cell_type": "code",
   "execution_count": 5,
   "id": "bf4bc054",
   "metadata": {
    "execution": {
     "iopub.execute_input": "2025-03-15T13:56:30.361949Z",
     "iopub.status.busy": "2025-03-15T13:56:30.361723Z",
     "iopub.status.idle": "2025-03-15T13:56:30.366973Z",
     "shell.execute_reply": "2025-03-15T13:56:30.366304Z"
    },
    "papermill": {
     "duration": 0.009826,
     "end_time": "2025-03-15T13:56:30.368188",
     "exception": false,
     "start_time": "2025-03-15T13:56:30.358362",
     "status": "completed"
    },
    "tags": []
   },
   "outputs": [],
   "source": [
    "def preprocess_audio_librosa(file_path):\n",
    "    y, sr = librosa.load(file_path, sr=SAMPLE_RATE)\n",
    "    mel_spec = librosa.feature.melspectrogram(y=y, sr=sr, n_mels=N_MELS)\n",
    "    mel_spec_db = librosa.power_to_db(mel_spec, ref=np.max)\n",
    "    # Pad or truncate spectrogram to fixed length\n",
    "    if mel_spec_db.shape[1] < MAX_AUDIO_LEN: # Trim or Pad the Spectrogram to a fixed length\n",
    "        mel_spec_db = np.pad(mel_spec_db, ((0, 0), (0, MAX_AUDIO_LEN - mel_spec_db.shape[1])))\n",
    "    else:\n",
    "        mel_spec_db = mel_spec_db[:, :MAX_AUDIO_LEN]\n",
    "    return mel_spec_db.T  # Transpose to (time_steps, features)\n",
    "\n",
    "\n",
    "# Tokenize and pad text\n",
    "def preprocess_text(text, tokenizer, max_len=MAX_TEXT_LEN):\n",
    "    sequence = tokenizer.texts_to_sequences([text])[0]\n",
    "    padded_sequence = pad_sequences([sequence], maxlen=max_len, padding='post')[0]\n",
    "    return padded_sequence\n"
   ]
  },
  {
   "cell_type": "code",
   "execution_count": 6,
   "id": "efeadfc5",
   "metadata": {
    "execution": {
     "iopub.execute_input": "2025-03-15T13:56:30.374471Z",
     "iopub.status.busy": "2025-03-15T13:56:30.374257Z",
     "iopub.status.idle": "2025-03-15T13:56:44.778905Z",
     "shell.execute_reply": "2025-03-15T13:56:44.777857Z"
    },
    "papermill": {
     "duration": 14.409222,
     "end_time": "2025-03-15T13:56:44.780240",
     "exception": false,
     "start_time": "2025-03-15T13:56:30.371018",
     "status": "completed"
    },
    "tags": []
   },
   "outputs": [
    {
     "name": "stdout",
     "output_type": "stream",
     "text": [
      "Audio shape: (4000, 80)\n",
      "Text sequence: 133\n"
     ]
    }
   ],
   "source": [
    "# Example preprocessing\n",
    "\n",
    "audio_path = X_train[0]\n",
    "text = y_train[0]\n",
    "\n",
    "# Audio preprocessing\n",
    "audio_features = preprocess_audio_librosa(audio_path)\n",
    "\n",
    "# Text preprocessing\n",
    "tokenizer = Tokenizer(char_level=True)\n",
    "tokenizer.fit_on_texts([text])\n",
    "text_sequence = preprocess_text(text, tokenizer)\n",
    "\n",
    "print(f\"Audio shape: {audio_features.shape}\")\n",
    "print(f\"Text sequence: {len(text_sequence)}\")"
   ]
  },
  {
   "cell_type": "code",
   "execution_count": 7,
   "id": "1a06363b",
   "metadata": {
    "execution": {
     "iopub.execute_input": "2025-03-15T13:56:44.788632Z",
     "iopub.status.busy": "2025-03-15T13:56:44.788084Z",
     "iopub.status.idle": "2025-03-15T13:58:21.183232Z",
     "shell.execute_reply": "2025-03-15T13:58:21.182283Z"
    },
    "papermill": {
     "duration": 96.401003,
     "end_time": "2025-03-15T13:58:21.185034",
     "exception": false,
     "start_time": "2025-03-15T13:56:44.784031",
     "status": "completed"
    },
    "tags": []
   },
   "outputs": [],
   "source": [
    "df = []\n",
    "df_test = []\n",
    "\n",
    "tokenizer = Tokenizer(char_level=True)\n",
    "for i in y_train:\n",
    "    tokenizer.fit_on_texts(i)\n",
    "for i in y_test:\n",
    "    tokenizer.fit_on_texts(i)\n",
    "\n",
    "for i in range(0,len(X_train)):\n",
    "    df.append([np.asarray(preprocess_audio_librosa(X_train[i])).astype('float32'), preprocess_text(y_train[i], tokenizer)])\n",
    "\n",
    "for i in range(0,len(X_test)):\n",
    "    df_test.append([np.asarray(preprocess_audio_librosa(X_test[i])).astype('float32'), preprocess_text(y_test[i], tokenizer)])"
   ]
  },
  {
   "cell_type": "code",
   "execution_count": 8,
   "id": "1de78b62",
   "metadata": {
    "execution": {
     "iopub.execute_input": "2025-03-15T13:58:21.193313Z",
     "iopub.status.busy": "2025-03-15T13:58:21.193065Z",
     "iopub.status.idle": "2025-03-15T13:58:21.197758Z",
     "shell.execute_reply": "2025-03-15T13:58:21.197104Z"
    },
    "papermill": {
     "duration": 0.00978,
     "end_time": "2025-03-15T13:58:21.198829",
     "exception": false,
     "start_time": "2025-03-15T13:58:21.189049",
     "status": "completed"
    },
    "tags": []
   },
   "outputs": [],
   "source": [
    "df = pd.DataFrame(df, columns = ['speech', 'text'])"
   ]
  },
  {
   "cell_type": "code",
   "execution_count": 9,
   "id": "874d28a7",
   "metadata": {
    "execution": {
     "iopub.execute_input": "2025-03-15T13:58:21.205008Z",
     "iopub.status.busy": "2025-03-15T13:58:21.204808Z",
     "iopub.status.idle": "2025-03-15T13:58:23.631285Z",
     "shell.execute_reply": "2025-03-15T13:58:23.630351Z"
    },
    "papermill": {
     "duration": 2.431055,
     "end_time": "2025-03-15T13:58:23.632677",
     "exception": false,
     "start_time": "2025-03-15T13:58:21.201622",
     "status": "completed"
    },
    "tags": []
   },
   "outputs": [
    {
     "name": "stdout",
     "output_type": "stream",
     "text": [
      "Audio shape: (3000, 4000, 80)\n",
      "Decoder input shape: (3000, 133, 1)\n",
      "Text (target) shape: (3000, 133, 1)\n"
     ]
    }
   ],
   "source": [
    "# Extract data\n",
    "X = np.stack(df['speech'].values).astype(np.float32)  # Shape: (batch_size, 4000, 80)\n",
    "y = np.stack(df['text'].values).astype(np.int32)      # Shape: (batch_size, 133)\n",
    "\n",
    "# Expand dimensions for target\n",
    "y = np.expand_dims(y, axis=-1)                       # Shape: (batch_size, 133, 1)\n",
    "\n",
    "# Create decoder input (shifted target)\n",
    "decoder_input = np.zeros_like(y)                     # Same shape as target\n",
    "decoder_input[:, 1:, :] = y[:, :-1, :]                # Shift right by 1\n",
    "\n",
    "print(f\"Audio shape: {X.shape}\")\n",
    "print(f\"Decoder input shape: {decoder_input.shape}\")\n",
    "print(f\"Text (target) shape: {y.shape}\")\n",
    "\n",
    "# Split data\n",
    "X_train, X_test = X[:2500], X[2500:]\n",
    "decoder_train, decoder_test = decoder_input[:2500], decoder_input[2500:]\n",
    "y_train, y_test = y[:2500], y[2500:]"
   ]
  },
  {
   "cell_type": "code",
   "execution_count": 10,
   "id": "0d1ef0fc",
   "metadata": {
    "execution": {
     "iopub.execute_input": "2025-03-15T13:58:23.639551Z",
     "iopub.status.busy": "2025-03-15T13:58:23.639266Z",
     "iopub.status.idle": "2025-03-15T13:58:23.643413Z",
     "shell.execute_reply": "2025-03-15T13:58:23.642477Z"
    },
    "papermill": {
     "duration": 0.008926,
     "end_time": "2025-03-15T13:58:23.644727",
     "exception": false,
     "start_time": "2025-03-15T13:58:23.635801",
     "status": "completed"
    },
    "tags": []
   },
   "outputs": [
    {
     "name": "stdout",
     "output_type": "stream",
     "text": [
      "X_train type: <class 'numpy.ndarray'>, shape: (2500, 4000, 80)\n",
      "decoder_train type: <class 'numpy.ndarray'>, shape: (2500, 133, 1)\n",
      "y_train type: <class 'numpy.ndarray'>, shape: (2500, 133, 1)\n"
     ]
    }
   ],
   "source": [
    "print(f\"X_train type: {type(X_train)}, shape: {X_train.shape}\")\n",
    "print(f\"decoder_train type: {type(decoder_train)}, shape: {decoder_train.shape}\")\n",
    "print(f\"y_train type: {type(y_train)}, shape: {y_train.shape}\")"
   ]
  },
  {
   "cell_type": "code",
   "execution_count": 11,
   "id": "e04c8793",
   "metadata": {
    "execution": {
     "iopub.execute_input": "2025-03-15T13:58:23.651267Z",
     "iopub.status.busy": "2025-03-15T13:58:23.651035Z",
     "iopub.status.idle": "2025-03-15T13:58:28.458880Z",
     "shell.execute_reply": "2025-03-15T13:58:28.458183Z"
    },
    "papermill": {
     "duration": 4.812789,
     "end_time": "2025-03-15T13:58:28.460418",
     "exception": false,
     "start_time": "2025-03-15T13:58:23.647629",
     "status": "completed"
    },
    "tags": []
   },
   "outputs": [],
   "source": [
    "VOCAB_SIZE = 29   # Number of unique tokens in text\n",
    "MAX_AUDIO_LENGTH = 4000\n",
    "MFCC_FEATURES = 80\n",
    "MAX_TEXT_LENGTH = 133\n",
    "\n",
    "# Simulated DataFrame data\n",
    "X = np.stack(df['speech'].values).astype(np.float32)  # (batch_size, 4000, 80)\n",
    "y = np.stack(df['text'].values).astype(np.int32)      # (batch_size, 133)\n",
    "\n",
    "# Expand dims for target\n",
    "y = np.expand_dims(y, axis=-1)                       # (batch_size, 133, 1)\n",
    "\n",
    "# Decoder input - shifted target\n",
    "decoder_input = np.zeros_like(y)\n",
    "decoder_input[:, 1:, :] = y[:, :-1, :]\n",
    "\n",
    "decoder_train = np.clip(decoder_train, 0, VOCAB_SIZE - 1)\n",
    "decoder_test = np.clip(decoder_test, 0, VOCAB_SIZE - 1)\n",
    "\n",
    "# One-hot encode decoder input\n",
    "decoder_input = to_categorical(decoder_input, num_classes=VOCAB_SIZE)\n",
    "\n",
    "# Split data\n",
    "#X_train, X_test = X[:2500], X[2500:]\n",
    "#decoder_train, decoder_test = decoder_input[:2500], decoder_input[2500:]\n",
    "#y_train, y_test = y[:2500], y[2500:]\n",
    "\n",
    "# Encoder\n",
    "encoder_inputs = Input(shape=(MAX_AUDIO_LENGTH, MFCC_FEATURES))\n",
    "encoder_lstm = LSTM(256, return_state=True)\n",
    "encoder_outputs, state_h, state_c = encoder_lstm(encoder_inputs)\n",
    "\n",
    "# Discard encoder outputs, only keep states\n",
    "encoder_states = [state_h, state_c]\n",
    "\n",
    "# Decoder\n",
    "decoder_inputs = Input(shape=(MAX_TEXT_LENGTH, VOCAB_SIZE))\n",
    "decoder_lstm = LSTM(256, return_sequences=True, return_state=True)\n",
    "decoder_outputs, _, _ = decoder_lstm(decoder_inputs, initial_state=encoder_states)\n",
    "\n",
    "# Dense layer for final output\n",
    "decoder_dense = Dense(VOCAB_SIZE, activation='softmax')\n",
    "decoder_outputs = decoder_dense(decoder_outputs)\n",
    "\n",
    "# Seq2Seq Model\n",
    "model = Model([encoder_inputs, decoder_inputs], decoder_outputs)\n",
    "\n",
    "model.compile(optimizer='adam', loss='sparse_categorical_crossentropy', metrics=['accuracy'])"
   ]
  },
  {
   "cell_type": "code",
   "execution_count": 12,
   "id": "72e11ce0",
   "metadata": {
    "execution": {
     "iopub.execute_input": "2025-03-15T13:58:28.467441Z",
     "iopub.status.busy": "2025-03-15T13:58:28.467203Z",
     "iopub.status.idle": "2025-03-15T13:58:28.484111Z",
     "shell.execute_reply": "2025-03-15T13:58:28.483484Z"
    },
    "papermill": {
     "duration": 0.021685,
     "end_time": "2025-03-15T13:58:28.485357",
     "exception": false,
     "start_time": "2025-03-15T13:58:28.463672",
     "status": "completed"
    },
    "tags": []
   },
   "outputs": [
    {
     "data": {
      "text/html": [
       "<pre style=\"white-space:pre;overflow-x:auto;line-height:normal;font-family:Menlo,'DejaVu Sans Mono',consolas,'Courier New',monospace\"><span style=\"font-weight: bold\">Model: \"functional\"</span>\n",
       "</pre>\n"
      ],
      "text/plain": [
       "\u001b[1mModel: \"functional\"\u001b[0m\n"
      ]
     },
     "metadata": {},
     "output_type": "display_data"
    },
    {
     "data": {
      "text/html": [
       "<pre style=\"white-space:pre;overflow-x:auto;line-height:normal;font-family:Menlo,'DejaVu Sans Mono',consolas,'Courier New',monospace\">┏━━━━━━━━━━━━━━━━━━━━━━━━━━━┳━━━━━━━━━━━━━━━━━━━━━━━━┳━━━━━━━━━━━━━━━━┳━━━━━━━━━━━━━━━━━━━━━━━━┓\n",
       "┃<span style=\"font-weight: bold\"> Layer (type)              </span>┃<span style=\"font-weight: bold\"> Output Shape           </span>┃<span style=\"font-weight: bold\">        Param # </span>┃<span style=\"font-weight: bold\"> Connected to           </span>┃\n",
       "┡━━━━━━━━━━━━━━━━━━━━━━━━━━━╇━━━━━━━━━━━━━━━━━━━━━━━━╇━━━━━━━━━━━━━━━━╇━━━━━━━━━━━━━━━━━━━━━━━━┩\n",
       "│ input_layer (<span style=\"color: #0087ff; text-decoration-color: #0087ff\">InputLayer</span>)  │ (<span style=\"color: #00d7ff; text-decoration-color: #00d7ff\">None</span>, <span style=\"color: #00af00; text-decoration-color: #00af00\">4000</span>, <span style=\"color: #00af00; text-decoration-color: #00af00\">80</span>)       │              <span style=\"color: #00af00; text-decoration-color: #00af00\">0</span> │ -                      │\n",
       "├───────────────────────────┼────────────────────────┼────────────────┼────────────────────────┤\n",
       "│ input_layer_1             │ (<span style=\"color: #00d7ff; text-decoration-color: #00d7ff\">None</span>, <span style=\"color: #00af00; text-decoration-color: #00af00\">133</span>, <span style=\"color: #00af00; text-decoration-color: #00af00\">29</span>)        │              <span style=\"color: #00af00; text-decoration-color: #00af00\">0</span> │ -                      │\n",
       "│ (<span style=\"color: #0087ff; text-decoration-color: #0087ff\">InputLayer</span>)              │                        │                │                        │\n",
       "├───────────────────────────┼────────────────────────┼────────────────┼────────────────────────┤\n",
       "│ lstm (<span style=\"color: #0087ff; text-decoration-color: #0087ff\">LSTM</span>)               │ [(<span style=\"color: #00d7ff; text-decoration-color: #00d7ff\">None</span>, <span style=\"color: #00af00; text-decoration-color: #00af00\">256</span>), (<span style=\"color: #00d7ff; text-decoration-color: #00d7ff\">None</span>,   │        <span style=\"color: #00af00; text-decoration-color: #00af00\">345,088</span> │ input_layer[<span style=\"color: #00af00; text-decoration-color: #00af00\">0</span>][<span style=\"color: #00af00; text-decoration-color: #00af00\">0</span>]      │\n",
       "│                           │ <span style=\"color: #00af00; text-decoration-color: #00af00\">256</span>), (<span style=\"color: #00d7ff; text-decoration-color: #00d7ff\">None</span>, <span style=\"color: #00af00; text-decoration-color: #00af00\">256</span>)]     │                │                        │\n",
       "├───────────────────────────┼────────────────────────┼────────────────┼────────────────────────┤\n",
       "│ lstm_1 (<span style=\"color: #0087ff; text-decoration-color: #0087ff\">LSTM</span>)             │ [(<span style=\"color: #00d7ff; text-decoration-color: #00d7ff\">None</span>, <span style=\"color: #00af00; text-decoration-color: #00af00\">133</span>, <span style=\"color: #00af00; text-decoration-color: #00af00\">256</span>),     │        <span style=\"color: #00af00; text-decoration-color: #00af00\">292,864</span> │ input_layer_1[<span style=\"color: #00af00; text-decoration-color: #00af00\">0</span>][<span style=\"color: #00af00; text-decoration-color: #00af00\">0</span>],   │\n",
       "│                           │ (<span style=\"color: #00d7ff; text-decoration-color: #00d7ff\">None</span>, <span style=\"color: #00af00; text-decoration-color: #00af00\">256</span>), (<span style=\"color: #00d7ff; text-decoration-color: #00d7ff\">None</span>,    │                │ lstm[<span style=\"color: #00af00; text-decoration-color: #00af00\">0</span>][<span style=\"color: #00af00; text-decoration-color: #00af00\">1</span>], lstm[<span style=\"color: #00af00; text-decoration-color: #00af00\">0</span>][<span style=\"color: #00af00; text-decoration-color: #00af00\">2</span>] │\n",
       "│                           │ <span style=\"color: #00af00; text-decoration-color: #00af00\">256</span>)]                  │                │                        │\n",
       "├───────────────────────────┼────────────────────────┼────────────────┼────────────────────────┤\n",
       "│ dense (<span style=\"color: #0087ff; text-decoration-color: #0087ff\">Dense</span>)             │ (<span style=\"color: #00d7ff; text-decoration-color: #00d7ff\">None</span>, <span style=\"color: #00af00; text-decoration-color: #00af00\">133</span>, <span style=\"color: #00af00; text-decoration-color: #00af00\">29</span>)        │          <span style=\"color: #00af00; text-decoration-color: #00af00\">7,453</span> │ lstm_1[<span style=\"color: #00af00; text-decoration-color: #00af00\">0</span>][<span style=\"color: #00af00; text-decoration-color: #00af00\">0</span>]           │\n",
       "└───────────────────────────┴────────────────────────┴────────────────┴────────────────────────┘\n",
       "</pre>\n"
      ],
      "text/plain": [
       "┏━━━━━━━━━━━━━━━━━━━━━━━━━━━┳━━━━━━━━━━━━━━━━━━━━━━━━┳━━━━━━━━━━━━━━━━┳━━━━━━━━━━━━━━━━━━━━━━━━┓\n",
       "┃\u001b[1m \u001b[0m\u001b[1mLayer (type)             \u001b[0m\u001b[1m \u001b[0m┃\u001b[1m \u001b[0m\u001b[1mOutput Shape          \u001b[0m\u001b[1m \u001b[0m┃\u001b[1m \u001b[0m\u001b[1m       Param #\u001b[0m\u001b[1m \u001b[0m┃\u001b[1m \u001b[0m\u001b[1mConnected to          \u001b[0m\u001b[1m \u001b[0m┃\n",
       "┡━━━━━━━━━━━━━━━━━━━━━━━━━━━╇━━━━━━━━━━━━━━━━━━━━━━━━╇━━━━━━━━━━━━━━━━╇━━━━━━━━━━━━━━━━━━━━━━━━┩\n",
       "│ input_layer (\u001b[38;5;33mInputLayer\u001b[0m)  │ (\u001b[38;5;45mNone\u001b[0m, \u001b[38;5;34m4000\u001b[0m, \u001b[38;5;34m80\u001b[0m)       │              \u001b[38;5;34m0\u001b[0m │ -                      │\n",
       "├───────────────────────────┼────────────────────────┼────────────────┼────────────────────────┤\n",
       "│ input_layer_1             │ (\u001b[38;5;45mNone\u001b[0m, \u001b[38;5;34m133\u001b[0m, \u001b[38;5;34m29\u001b[0m)        │              \u001b[38;5;34m0\u001b[0m │ -                      │\n",
       "│ (\u001b[38;5;33mInputLayer\u001b[0m)              │                        │                │                        │\n",
       "├───────────────────────────┼────────────────────────┼────────────────┼────────────────────────┤\n",
       "│ lstm (\u001b[38;5;33mLSTM\u001b[0m)               │ [(\u001b[38;5;45mNone\u001b[0m, \u001b[38;5;34m256\u001b[0m), (\u001b[38;5;45mNone\u001b[0m,   │        \u001b[38;5;34m345,088\u001b[0m │ input_layer[\u001b[38;5;34m0\u001b[0m][\u001b[38;5;34m0\u001b[0m]      │\n",
       "│                           │ \u001b[38;5;34m256\u001b[0m), (\u001b[38;5;45mNone\u001b[0m, \u001b[38;5;34m256\u001b[0m)]     │                │                        │\n",
       "├───────────────────────────┼────────────────────────┼────────────────┼────────────────────────┤\n",
       "│ lstm_1 (\u001b[38;5;33mLSTM\u001b[0m)             │ [(\u001b[38;5;45mNone\u001b[0m, \u001b[38;5;34m133\u001b[0m, \u001b[38;5;34m256\u001b[0m),     │        \u001b[38;5;34m292,864\u001b[0m │ input_layer_1[\u001b[38;5;34m0\u001b[0m][\u001b[38;5;34m0\u001b[0m],   │\n",
       "│                           │ (\u001b[38;5;45mNone\u001b[0m, \u001b[38;5;34m256\u001b[0m), (\u001b[38;5;45mNone\u001b[0m,    │                │ lstm[\u001b[38;5;34m0\u001b[0m][\u001b[38;5;34m1\u001b[0m], lstm[\u001b[38;5;34m0\u001b[0m][\u001b[38;5;34m2\u001b[0m] │\n",
       "│                           │ \u001b[38;5;34m256\u001b[0m)]                  │                │                        │\n",
       "├───────────────────────────┼────────────────────────┼────────────────┼────────────────────────┤\n",
       "│ dense (\u001b[38;5;33mDense\u001b[0m)             │ (\u001b[38;5;45mNone\u001b[0m, \u001b[38;5;34m133\u001b[0m, \u001b[38;5;34m29\u001b[0m)        │          \u001b[38;5;34m7,453\u001b[0m │ lstm_1[\u001b[38;5;34m0\u001b[0m][\u001b[38;5;34m0\u001b[0m]           │\n",
       "└───────────────────────────┴────────────────────────┴────────────────┴────────────────────────┘\n"
      ]
     },
     "metadata": {},
     "output_type": "display_data"
    },
    {
     "data": {
      "text/html": [
       "<pre style=\"white-space:pre;overflow-x:auto;line-height:normal;font-family:Menlo,'DejaVu Sans Mono',consolas,'Courier New',monospace\"><span style=\"font-weight: bold\"> Total params: </span><span style=\"color: #00af00; text-decoration-color: #00af00\">645,405</span> (2.46 MB)\n",
       "</pre>\n"
      ],
      "text/plain": [
       "\u001b[1m Total params: \u001b[0m\u001b[38;5;34m645,405\u001b[0m (2.46 MB)\n"
      ]
     },
     "metadata": {},
     "output_type": "display_data"
    },
    {
     "data": {
      "text/html": [
       "<pre style=\"white-space:pre;overflow-x:auto;line-height:normal;font-family:Menlo,'DejaVu Sans Mono',consolas,'Courier New',monospace\"><span style=\"font-weight: bold\"> Trainable params: </span><span style=\"color: #00af00; text-decoration-color: #00af00\">645,405</span> (2.46 MB)\n",
       "</pre>\n"
      ],
      "text/plain": [
       "\u001b[1m Trainable params: \u001b[0m\u001b[38;5;34m645,405\u001b[0m (2.46 MB)\n"
      ]
     },
     "metadata": {},
     "output_type": "display_data"
    },
    {
     "data": {
      "text/html": [
       "<pre style=\"white-space:pre;overflow-x:auto;line-height:normal;font-family:Menlo,'DejaVu Sans Mono',consolas,'Courier New',monospace\"><span style=\"font-weight: bold\"> Non-trainable params: </span><span style=\"color: #00af00; text-decoration-color: #00af00\">0</span> (0.00 B)\n",
       "</pre>\n"
      ],
      "text/plain": [
       "\u001b[1m Non-trainable params: \u001b[0m\u001b[38;5;34m0\u001b[0m (0.00 B)\n"
      ]
     },
     "metadata": {},
     "output_type": "display_data"
    }
   ],
   "source": [
    "model.summary()"
   ]
  },
  {
   "cell_type": "code",
   "execution_count": 13,
   "id": "4e6c08f9",
   "metadata": {
    "execution": {
     "iopub.execute_input": "2025-03-15T13:58:28.493184Z",
     "iopub.status.busy": "2025-03-15T13:58:28.492927Z",
     "iopub.status.idle": "2025-03-15T14:29:37.415080Z",
     "shell.execute_reply": "2025-03-15T14:29:37.414143Z"
    },
    "papermill": {
     "duration": 1868.927513,
     "end_time": "2025-03-15T14:29:37.416492",
     "exception": false,
     "start_time": "2025-03-15T13:58:28.488979",
     "status": "completed"
    },
    "tags": []
   },
   "outputs": [
    {
     "name": "stdout",
     "output_type": "stream",
     "text": [
      "Epoch 1/100\n",
      "\u001b[1m79/79\u001b[0m \u001b[32m━━━━━━━━━━━━━━━━━━━━\u001b[0m\u001b[37m\u001b[0m \u001b[1m23s\u001b[0m 260ms/step - accuracy: 0.6289 - loss: 1.9298 - val_accuracy: 0.6875 - val_loss: 1.0953\n",
      "Epoch 2/100\n",
      "\u001b[1m79/79\u001b[0m \u001b[32m━━━━━━━━━━━━━━━━━━━━\u001b[0m\u001b[37m\u001b[0m \u001b[1m19s\u001b[0m 235ms/step - accuracy: 0.6920 - loss: 1.0797 - val_accuracy: 0.6983 - val_loss: 1.0563\n",
      "Epoch 3/100\n",
      "\u001b[1m79/79\u001b[0m \u001b[32m━━━━━━━━━━━━━━━━━━━━\u001b[0m\u001b[37m\u001b[0m \u001b[1m19s\u001b[0m 234ms/step - accuracy: 0.7019 - loss: 1.0472 - val_accuracy: 0.7083 - val_loss: 1.0225\n",
      "Epoch 4/100\n",
      "\u001b[1m79/79\u001b[0m \u001b[32m━━━━━━━━━━━━━━━━━━━━\u001b[0m\u001b[37m\u001b[0m \u001b[1m19s\u001b[0m 234ms/step - accuracy: 0.7140 - loss: 1.0031 - val_accuracy: 0.7146 - val_loss: 1.0000\n",
      "Epoch 5/100\n",
      "\u001b[1m79/79\u001b[0m \u001b[32m━━━━━━━━━━━━━━━━━━━━\u001b[0m\u001b[37m\u001b[0m \u001b[1m19s\u001b[0m 234ms/step - accuracy: 0.7126 - loss: 1.0035 - val_accuracy: 0.7165 - val_loss: 0.9848\n",
      "Epoch 6/100\n",
      "\u001b[1m79/79\u001b[0m \u001b[32m━━━━━━━━━━━━━━━━━━━━\u001b[0m\u001b[37m\u001b[0m \u001b[1m19s\u001b[0m 235ms/step - accuracy: 0.7192 - loss: 0.9803 - val_accuracy: 0.7215 - val_loss: 0.9684\n",
      "Epoch 7/100\n",
      "\u001b[1m79/79\u001b[0m \u001b[32m━━━━━━━━━━━━━━━━━━━━\u001b[0m\u001b[37m\u001b[0m \u001b[1m19s\u001b[0m 235ms/step - accuracy: 0.7222 - loss: 0.9671 - val_accuracy: 0.7256 - val_loss: 0.9536\n",
      "Epoch 8/100\n",
      "\u001b[1m79/79\u001b[0m \u001b[32m━━━━━━━━━━━━━━━━━━━━\u001b[0m\u001b[37m\u001b[0m \u001b[1m19s\u001b[0m 234ms/step - accuracy: 0.7284 - loss: 0.9394 - val_accuracy: 0.7272 - val_loss: 0.9390\n",
      "Epoch 9/100\n",
      "\u001b[1m79/79\u001b[0m \u001b[32m━━━━━━━━━━━━━━━━━━━━\u001b[0m\u001b[37m\u001b[0m \u001b[1m19s\u001b[0m 234ms/step - accuracy: 0.7284 - loss: 0.9367 - val_accuracy: 0.7343 - val_loss: 0.9245\n",
      "Epoch 10/100\n",
      "\u001b[1m79/79\u001b[0m \u001b[32m━━━━━━━━━━━━━━━━━━━━\u001b[0m\u001b[37m\u001b[0m \u001b[1m19s\u001b[0m 234ms/step - accuracy: 0.7368 - loss: 0.9090 - val_accuracy: 0.7399 - val_loss: 0.9120\n",
      "Epoch 11/100\n",
      "\u001b[1m79/79\u001b[0m \u001b[32m━━━━━━━━━━━━━━━━━━━━\u001b[0m\u001b[37m\u001b[0m \u001b[1m19s\u001b[0m 235ms/step - accuracy: 0.7412 - loss: 0.8963 - val_accuracy: 0.7436 - val_loss: 0.9008\n",
      "Epoch 12/100\n",
      "\u001b[1m79/79\u001b[0m \u001b[32m━━━━━━━━━━━━━━━━━━━━\u001b[0m\u001b[37m\u001b[0m \u001b[1m19s\u001b[0m 234ms/step - accuracy: 0.7434 - loss: 0.8903 - val_accuracy: 0.7445 - val_loss: 0.8898\n",
      "Epoch 13/100\n",
      "\u001b[1m79/79\u001b[0m \u001b[32m━━━━━━━━━━━━━━━━━━━━\u001b[0m\u001b[37m\u001b[0m \u001b[1m19s\u001b[0m 234ms/step - accuracy: 0.7437 - loss: 0.8887 - val_accuracy: 0.7493 - val_loss: 0.8804\n",
      "Epoch 14/100\n",
      "\u001b[1m79/79\u001b[0m \u001b[32m━━━━━━━━━━━━━━━━━━━━\u001b[0m\u001b[37m\u001b[0m \u001b[1m19s\u001b[0m 234ms/step - accuracy: 0.7508 - loss: 0.8659 - val_accuracy: 0.7521 - val_loss: 0.8675\n",
      "Epoch 15/100\n",
      "\u001b[1m79/79\u001b[0m \u001b[32m━━━━━━━━━━━━━━━━━━━━\u001b[0m\u001b[37m\u001b[0m \u001b[1m19s\u001b[0m 234ms/step - accuracy: 0.7542 - loss: 0.8565 - val_accuracy: 0.7554 - val_loss: 0.8627\n",
      "Epoch 16/100\n",
      "\u001b[1m79/79\u001b[0m \u001b[32m━━━━━━━━━━━━━━━━━━━━\u001b[0m\u001b[37m\u001b[0m \u001b[1m19s\u001b[0m 234ms/step - accuracy: 0.7628 - loss: 0.8274 - val_accuracy: 0.7598 - val_loss: 0.8491\n",
      "Epoch 17/100\n",
      "\u001b[1m79/79\u001b[0m \u001b[32m━━━━━━━━━━━━━━━━━━━━\u001b[0m\u001b[37m\u001b[0m \u001b[1m19s\u001b[0m 235ms/step - accuracy: 0.7578 - loss: 0.8401 - val_accuracy: 0.7598 - val_loss: 0.8410\n",
      "Epoch 18/100\n",
      "\u001b[1m79/79\u001b[0m \u001b[32m━━━━━━━━━━━━━━━━━━━━\u001b[0m\u001b[37m\u001b[0m \u001b[1m19s\u001b[0m 234ms/step - accuracy: 0.7623 - loss: 0.8277 - val_accuracy: 0.7630 - val_loss: 0.8309\n",
      "Epoch 19/100\n",
      "\u001b[1m79/79\u001b[0m \u001b[32m━━━━━━━━━━━━━━━━━━━━\u001b[0m\u001b[37m\u001b[0m \u001b[1m19s\u001b[0m 235ms/step - accuracy: 0.7653 - loss: 0.8150 - val_accuracy: 0.7655 - val_loss: 0.8222\n",
      "Epoch 20/100\n",
      "\u001b[1m79/79\u001b[0m \u001b[32m━━━━━━━━━━━━━━━━━━━━\u001b[0m\u001b[37m\u001b[0m \u001b[1m19s\u001b[0m 234ms/step - accuracy: 0.7660 - loss: 0.8084 - val_accuracy: 0.7696 - val_loss: 0.8136\n",
      "Epoch 21/100\n",
      "\u001b[1m79/79\u001b[0m \u001b[32m━━━━━━━━━━━━━━━━━━━━\u001b[0m\u001b[37m\u001b[0m \u001b[1m19s\u001b[0m 234ms/step - accuracy: 0.7720 - loss: 0.7884 - val_accuracy: 0.7712 - val_loss: 0.8065\n",
      "Epoch 22/100\n",
      "\u001b[1m79/79\u001b[0m \u001b[32m━━━━━━━━━━━━━━━━━━━━\u001b[0m\u001b[37m\u001b[0m \u001b[1m19s\u001b[0m 234ms/step - accuracy: 0.7729 - loss: 0.7857 - val_accuracy: 0.7726 - val_loss: 0.7971\n",
      "Epoch 23/100\n",
      "\u001b[1m79/79\u001b[0m \u001b[32m━━━━━━━━━━━━━━━━━━━━\u001b[0m\u001b[37m\u001b[0m \u001b[1m19s\u001b[0m 234ms/step - accuracy: 0.7733 - loss: 0.7840 - val_accuracy: 0.7739 - val_loss: 0.7925\n",
      "Epoch 24/100\n",
      "\u001b[1m79/79\u001b[0m \u001b[32m━━━━━━━━━━━━━━━━━━━━\u001b[0m\u001b[37m\u001b[0m \u001b[1m19s\u001b[0m 234ms/step - accuracy: 0.7750 - loss: 0.7773 - val_accuracy: 0.7780 - val_loss: 0.7839\n",
      "Epoch 25/100\n",
      "\u001b[1m79/79\u001b[0m \u001b[32m━━━━━━━━━━━━━━━━━━━━\u001b[0m\u001b[37m\u001b[0m \u001b[1m19s\u001b[0m 235ms/step - accuracy: 0.7804 - loss: 0.7587 - val_accuracy: 0.7781 - val_loss: 0.7759\n",
      "Epoch 26/100\n",
      "\u001b[1m79/79\u001b[0m \u001b[32m━━━━━━━━━━━━━━━━━━━━\u001b[0m\u001b[37m\u001b[0m \u001b[1m19s\u001b[0m 234ms/step - accuracy: 0.7820 - loss: 0.7528 - val_accuracy: 0.7805 - val_loss: 0.7692\n",
      "Epoch 27/100\n",
      "\u001b[1m79/79\u001b[0m \u001b[32m━━━━━━━━━━━━━━━━━━━━\u001b[0m\u001b[37m\u001b[0m \u001b[1m19s\u001b[0m 234ms/step - accuracy: 0.7848 - loss: 0.7392 - val_accuracy: 0.7817 - val_loss: 0.7613\n",
      "Epoch 28/100\n",
      "\u001b[1m79/79\u001b[0m \u001b[32m━━━━━━━━━━━━━━━━━━━━\u001b[0m\u001b[37m\u001b[0m \u001b[1m19s\u001b[0m 234ms/step - accuracy: 0.7883 - loss: 0.7284 - val_accuracy: 0.7830 - val_loss: 0.7547\n",
      "Epoch 29/100\n",
      "\u001b[1m79/79\u001b[0m \u001b[32m━━━━━━━━━━━━━━━━━━━━\u001b[0m\u001b[37m\u001b[0m \u001b[1m19s\u001b[0m 235ms/step - accuracy: 0.7923 - loss: 0.7098 - val_accuracy: 0.7849 - val_loss: 0.7472\n",
      "Epoch 30/100\n",
      "\u001b[1m79/79\u001b[0m \u001b[32m━━━━━━━━━━━━━━━━━━━━\u001b[0m\u001b[37m\u001b[0m \u001b[1m19s\u001b[0m 234ms/step - accuracy: 0.7963 - loss: 0.7006 - val_accuracy: 0.7871 - val_loss: 0.7404\n",
      "Epoch 31/100\n",
      "\u001b[1m79/79\u001b[0m \u001b[32m━━━━━━━━━━━━━━━━━━━━\u001b[0m\u001b[37m\u001b[0m \u001b[1m19s\u001b[0m 234ms/step - accuracy: 0.7981 - loss: 0.6935 - val_accuracy: 0.7882 - val_loss: 0.7363\n",
      "Epoch 32/100\n",
      "\u001b[1m79/79\u001b[0m \u001b[32m━━━━━━━━━━━━━━━━━━━━\u001b[0m\u001b[37m\u001b[0m \u001b[1m19s\u001b[0m 235ms/step - accuracy: 0.7965 - loss: 0.6977 - val_accuracy: 0.7896 - val_loss: 0.7289\n",
      "Epoch 33/100\n",
      "\u001b[1m79/79\u001b[0m \u001b[32m━━━━━━━━━━━━━━━━━━━━\u001b[0m\u001b[37m\u001b[0m \u001b[1m19s\u001b[0m 234ms/step - accuracy: 0.8039 - loss: 0.6745 - val_accuracy: 0.7920 - val_loss: 0.7233\n",
      "Epoch 34/100\n",
      "\u001b[1m79/79\u001b[0m \u001b[32m━━━━━━━━━━━━━━━━━━━━\u001b[0m\u001b[37m\u001b[0m \u001b[1m19s\u001b[0m 235ms/step - accuracy: 0.8047 - loss: 0.6726 - val_accuracy: 0.7932 - val_loss: 0.7186\n",
      "Epoch 35/100\n",
      "\u001b[1m79/79\u001b[0m \u001b[32m━━━━━━━━━━━━━━━━━━━━\u001b[0m\u001b[37m\u001b[0m \u001b[1m19s\u001b[0m 234ms/step - accuracy: 0.8102 - loss: 0.6551 - val_accuracy: 0.7953 - val_loss: 0.7101\n",
      "Epoch 36/100\n",
      "\u001b[1m79/79\u001b[0m \u001b[32m━━━━━━━━━━━━━━━━━━━━\u001b[0m\u001b[37m\u001b[0m \u001b[1m19s\u001b[0m 235ms/step - accuracy: 0.8145 - loss: 0.6393 - val_accuracy: 0.7980 - val_loss: 0.7055\n",
      "Epoch 37/100\n",
      "\u001b[1m79/79\u001b[0m \u001b[32m━━━━━━━━━━━━━━━━━━━━\u001b[0m\u001b[37m\u001b[0m \u001b[1m19s\u001b[0m 234ms/step - accuracy: 0.8187 - loss: 0.6234 - val_accuracy: 0.7992 - val_loss: 0.6988\n",
      "Epoch 38/100\n",
      "\u001b[1m79/79\u001b[0m \u001b[32m━━━━━━━━━━━━━━━━━━━━\u001b[0m\u001b[37m\u001b[0m \u001b[1m19s\u001b[0m 234ms/step - accuracy: 0.8182 - loss: 0.6272 - val_accuracy: 0.8025 - val_loss: 0.6963\n",
      "Epoch 39/100\n",
      "\u001b[1m79/79\u001b[0m \u001b[32m━━━━━━━━━━━━━━━━━━━━\u001b[0m\u001b[37m\u001b[0m \u001b[1m19s\u001b[0m 234ms/step - accuracy: 0.8231 - loss: 0.6117 - val_accuracy: 0.8028 - val_loss: 0.6905\n",
      "Epoch 40/100\n",
      "\u001b[1m79/79\u001b[0m \u001b[32m━━━━━━━━━━━━━━━━━━━━\u001b[0m\u001b[37m\u001b[0m \u001b[1m19s\u001b[0m 234ms/step - accuracy: 0.8268 - loss: 0.5990 - val_accuracy: 0.8045 - val_loss: 0.6874\n",
      "Epoch 41/100\n",
      "\u001b[1m79/79\u001b[0m \u001b[32m━━━━━━━━━━━━━━━━━━━━\u001b[0m\u001b[37m\u001b[0m \u001b[1m19s\u001b[0m 234ms/step - accuracy: 0.8301 - loss: 0.5900 - val_accuracy: 0.8063 - val_loss: 0.6815\n",
      "Epoch 42/100\n",
      "\u001b[1m79/79\u001b[0m \u001b[32m━━━━━━━━━━━━━━━━━━━━\u001b[0m\u001b[37m\u001b[0m \u001b[1m19s\u001b[0m 234ms/step - accuracy: 0.8335 - loss: 0.5795 - val_accuracy: 0.8084 - val_loss: 0.6748\n",
      "Epoch 43/100\n",
      "\u001b[1m79/79\u001b[0m \u001b[32m━━━━━━━━━━━━━━━━━━━━\u001b[0m\u001b[37m\u001b[0m \u001b[1m19s\u001b[0m 234ms/step - accuracy: 0.8401 - loss: 0.5568 - val_accuracy: 0.8082 - val_loss: 0.6746\n",
      "Epoch 44/100\n",
      "\u001b[1m79/79\u001b[0m \u001b[32m━━━━━━━━━━━━━━━━━━━━\u001b[0m\u001b[37m\u001b[0m \u001b[1m19s\u001b[0m 234ms/step - accuracy: 0.8408 - loss: 0.5549 - val_accuracy: 0.8118 - val_loss: 0.6659\n",
      "Epoch 45/100\n",
      "\u001b[1m79/79\u001b[0m \u001b[32m━━━━━━━━━━━━━━━━━━━━\u001b[0m\u001b[37m\u001b[0m \u001b[1m19s\u001b[0m 234ms/step - accuracy: 0.8447 - loss: 0.5429 - val_accuracy: 0.8147 - val_loss: 0.6640\n",
      "Epoch 46/100\n",
      "\u001b[1m79/79\u001b[0m \u001b[32m━━━━━━━━━━━━━━━━━━━━\u001b[0m\u001b[37m\u001b[0m \u001b[1m19s\u001b[0m 234ms/step - accuracy: 0.8493 - loss: 0.5281 - val_accuracy: 0.8153 - val_loss: 0.6633\n",
      "Epoch 47/100\n",
      "\u001b[1m79/79\u001b[0m \u001b[32m━━━━━━━━━━━━━━━━━━━━\u001b[0m\u001b[37m\u001b[0m \u001b[1m19s\u001b[0m 234ms/step - accuracy: 0.8484 - loss: 0.5286 - val_accuracy: 0.8164 - val_loss: 0.6573\n",
      "Epoch 48/100\n",
      "\u001b[1m79/79\u001b[0m \u001b[32m━━━━━━━━━━━━━━━━━━━━\u001b[0m\u001b[37m\u001b[0m \u001b[1m19s\u001b[0m 235ms/step - accuracy: 0.8509 - loss: 0.5227 - val_accuracy: 0.8181 - val_loss: 0.6548\n",
      "Epoch 49/100\n",
      "\u001b[1m79/79\u001b[0m \u001b[32m━━━━━━━━━━━━━━━━━━━━\u001b[0m\u001b[37m\u001b[0m \u001b[1m19s\u001b[0m 234ms/step - accuracy: 0.8550 - loss: 0.5093 - val_accuracy: 0.8196 - val_loss: 0.6539\n",
      "Epoch 50/100\n",
      "\u001b[1m79/79\u001b[0m \u001b[32m━━━━━━━━━━━━━━━━━━━━\u001b[0m\u001b[37m\u001b[0m \u001b[1m19s\u001b[0m 234ms/step - accuracy: 0.8613 - loss: 0.4892 - val_accuracy: 0.8222 - val_loss: 0.6475\n",
      "Epoch 51/100\n",
      "\u001b[1m79/79\u001b[0m \u001b[32m━━━━━━━━━━━━━━━━━━━━\u001b[0m\u001b[37m\u001b[0m \u001b[1m19s\u001b[0m 234ms/step - accuracy: 0.8611 - loss: 0.4891 - val_accuracy: 0.8220 - val_loss: 0.6480\n",
      "Epoch 52/100\n",
      "\u001b[1m79/79\u001b[0m \u001b[32m━━━━━━━━━━━━━━━━━━━━\u001b[0m\u001b[37m\u001b[0m \u001b[1m19s\u001b[0m 234ms/step - accuracy: 0.8651 - loss: 0.4759 - val_accuracy: 0.8236 - val_loss: 0.6454\n",
      "Epoch 53/100\n",
      "\u001b[1m79/79\u001b[0m \u001b[32m━━━━━━━━━━━━━━━━━━━━\u001b[0m\u001b[37m\u001b[0m \u001b[1m19s\u001b[0m 234ms/step - accuracy: 0.8648 - loss: 0.4798 - val_accuracy: 0.8244 - val_loss: 0.6463\n",
      "Epoch 54/100\n",
      "\u001b[1m79/79\u001b[0m \u001b[32m━━━━━━━━━━━━━━━━━━━━\u001b[0m\u001b[37m\u001b[0m \u001b[1m19s\u001b[0m 234ms/step - accuracy: 0.8708 - loss: 0.4610 - val_accuracy: 0.8269 - val_loss: 0.6400\n",
      "Epoch 55/100\n",
      "\u001b[1m79/79\u001b[0m \u001b[32m━━━━━━━━━━━━━━━━━━━━\u001b[0m\u001b[37m\u001b[0m \u001b[1m19s\u001b[0m 235ms/step - accuracy: 0.8744 - loss: 0.4451 - val_accuracy: 0.8283 - val_loss: 0.6394\n",
      "Epoch 56/100\n",
      "\u001b[1m79/79\u001b[0m \u001b[32m━━━━━━━━━━━━━━━━━━━━\u001b[0m\u001b[37m\u001b[0m \u001b[1m19s\u001b[0m 235ms/step - accuracy: 0.8744 - loss: 0.4469 - val_accuracy: 0.8281 - val_loss: 0.6421\n",
      "Epoch 57/100\n",
      "\u001b[1m79/79\u001b[0m \u001b[32m━━━━━━━━━━━━━━━━━━━━\u001b[0m\u001b[37m\u001b[0m \u001b[1m19s\u001b[0m 235ms/step - accuracy: 0.8761 - loss: 0.4410 - val_accuracy: 0.8291 - val_loss: 0.6387\n",
      "Epoch 58/100\n",
      "\u001b[1m79/79\u001b[0m \u001b[32m━━━━━━━━━━━━━━━━━━━━\u001b[0m\u001b[37m\u001b[0m \u001b[1m19s\u001b[0m 234ms/step - accuracy: 0.8806 - loss: 0.4269 - val_accuracy: 0.8303 - val_loss: 0.6381\n",
      "Epoch 59/100\n",
      "\u001b[1m79/79\u001b[0m \u001b[32m━━━━━━━━━━━━━━━━━━━━\u001b[0m\u001b[37m\u001b[0m \u001b[1m19s\u001b[0m 234ms/step - accuracy: 0.8817 - loss: 0.4214 - val_accuracy: 0.8295 - val_loss: 0.6413\n",
      "Epoch 60/100\n",
      "\u001b[1m79/79\u001b[0m \u001b[32m━━━━━━━━━━━━━━━━━━━━\u001b[0m\u001b[37m\u001b[0m \u001b[1m19s\u001b[0m 235ms/step - accuracy: 0.8841 - loss: 0.4124 - val_accuracy: 0.8324 - val_loss: 0.6365\n",
      "Epoch 61/100\n",
      "\u001b[1m79/79\u001b[0m \u001b[32m━━━━━━━━━━━━━━━━━━━━\u001b[0m\u001b[37m\u001b[0m \u001b[1m19s\u001b[0m 234ms/step - accuracy: 0.8858 - loss: 0.4093 - val_accuracy: 0.8332 - val_loss: 0.6391\n",
      "Epoch 62/100\n",
      "\u001b[1m79/79\u001b[0m \u001b[32m━━━━━━━━━━━━━━━━━━━━\u001b[0m\u001b[37m\u001b[0m \u001b[1m19s\u001b[0m 235ms/step - accuracy: 0.8879 - loss: 0.3996 - val_accuracy: 0.8332 - val_loss: 0.6402\n",
      "Epoch 63/100\n",
      "\u001b[1m79/79\u001b[0m \u001b[32m━━━━━━━━━━━━━━━━━━━━\u001b[0m\u001b[37m\u001b[0m \u001b[1m19s\u001b[0m 234ms/step - accuracy: 0.8863 - loss: 0.4059 - val_accuracy: 0.8353 - val_loss: 0.6351\n",
      "Epoch 64/100\n",
      "\u001b[1m79/79\u001b[0m \u001b[32m━━━━━━━━━━━━━━━━━━━━\u001b[0m\u001b[37m\u001b[0m \u001b[1m19s\u001b[0m 234ms/step - accuracy: 0.8904 - loss: 0.3962 - val_accuracy: 0.8344 - val_loss: 0.6373\n",
      "Epoch 65/100\n",
      "\u001b[1m79/79\u001b[0m \u001b[32m━━━━━━━━━━━━━━━━━━━━\u001b[0m\u001b[37m\u001b[0m \u001b[1m19s\u001b[0m 234ms/step - accuracy: 0.8873 - loss: 0.3971 - val_accuracy: 0.8363 - val_loss: 0.6342\n",
      "Epoch 66/100\n",
      "\u001b[1m79/79\u001b[0m \u001b[32m━━━━━━━━━━━━━━━━━━━━\u001b[0m\u001b[37m\u001b[0m \u001b[1m19s\u001b[0m 234ms/step - accuracy: 0.8940 - loss: 0.3784 - val_accuracy: 0.8360 - val_loss: 0.6354\n",
      "Epoch 67/100\n",
      "\u001b[1m79/79\u001b[0m \u001b[32m━━━━━━━━━━━━━━━━━━━━\u001b[0m\u001b[37m\u001b[0m \u001b[1m19s\u001b[0m 234ms/step - accuracy: 0.8963 - loss: 0.3725 - val_accuracy: 0.8388 - val_loss: 0.6350\n",
      "Epoch 68/100\n",
      "\u001b[1m79/79\u001b[0m \u001b[32m━━━━━━━━━━━━━━━━━━━━\u001b[0m\u001b[37m\u001b[0m \u001b[1m19s\u001b[0m 234ms/step - accuracy: 0.8972 - loss: 0.3709 - val_accuracy: 0.8388 - val_loss: 0.6366\n",
      "Epoch 69/100\n",
      "\u001b[1m79/79\u001b[0m \u001b[32m━━━━━━━━━━━━━━━━━━━━\u001b[0m\u001b[37m\u001b[0m \u001b[1m19s\u001b[0m 235ms/step - accuracy: 0.9009 - loss: 0.3566 - val_accuracy: 0.8381 - val_loss: 0.6385\n",
      "Epoch 70/100\n",
      "\u001b[1m79/79\u001b[0m \u001b[32m━━━━━━━━━━━━━━━━━━━━\u001b[0m\u001b[37m\u001b[0m \u001b[1m19s\u001b[0m 234ms/step - accuracy: 0.8982 - loss: 0.3621 - val_accuracy: 0.8411 - val_loss: 0.6324\n",
      "Epoch 71/100\n",
      "\u001b[1m79/79\u001b[0m \u001b[32m━━━━━━━━━━━━━━━━━━━━\u001b[0m\u001b[37m\u001b[0m \u001b[1m19s\u001b[0m 234ms/step - accuracy: 0.9004 - loss: 0.3567 - val_accuracy: 0.8402 - val_loss: 0.6332\n",
      "Epoch 72/100\n",
      "\u001b[1m79/79\u001b[0m \u001b[32m━━━━━━━━━━━━━━━━━━━━\u001b[0m\u001b[37m\u001b[0m \u001b[1m19s\u001b[0m 234ms/step - accuracy: 0.9049 - loss: 0.3434 - val_accuracy: 0.8425 - val_loss: 0.6316\n",
      "Epoch 73/100\n",
      "\u001b[1m79/79\u001b[0m \u001b[32m━━━━━━━━━━━━━━━━━━━━\u001b[0m\u001b[37m\u001b[0m \u001b[1m19s\u001b[0m 235ms/step - accuracy: 0.9064 - loss: 0.3379 - val_accuracy: 0.8400 - val_loss: 0.6454\n",
      "Epoch 74/100\n",
      "\u001b[1m79/79\u001b[0m \u001b[32m━━━━━━━━━━━━━━━━━━━━\u001b[0m\u001b[37m\u001b[0m \u001b[1m18s\u001b[0m 234ms/step - accuracy: 0.9002 - loss: 0.3544 - val_accuracy: 0.8419 - val_loss: 0.6364\n",
      "Epoch 75/100\n",
      "\u001b[1m79/79\u001b[0m \u001b[32m━━━━━━━━━━━━━━━━━━━━\u001b[0m\u001b[37m\u001b[0m \u001b[1m19s\u001b[0m 234ms/step - accuracy: 0.9069 - loss: 0.3356 - val_accuracy: 0.8436 - val_loss: 0.6358\n",
      "Epoch 76/100\n",
      "\u001b[1m79/79\u001b[0m \u001b[32m━━━━━━━━━━━━━━━━━━━━\u001b[0m\u001b[37m\u001b[0m \u001b[1m19s\u001b[0m 234ms/step - accuracy: 0.9095 - loss: 0.3276 - val_accuracy: 0.8426 - val_loss: 0.6375\n",
      "Epoch 77/100\n",
      "\u001b[1m79/79\u001b[0m \u001b[32m━━━━━━━━━━━━━━━━━━━━\u001b[0m\u001b[37m\u001b[0m \u001b[1m19s\u001b[0m 235ms/step - accuracy: 0.9115 - loss: 0.3199 - val_accuracy: 0.8440 - val_loss: 0.6360\n",
      "Epoch 78/100\n",
      "\u001b[1m79/79\u001b[0m \u001b[32m━━━━━━━━━━━━━━━━━━━━\u001b[0m\u001b[37m\u001b[0m \u001b[1m19s\u001b[0m 234ms/step - accuracy: 0.9117 - loss: 0.3176 - val_accuracy: 0.8446 - val_loss: 0.6397\n",
      "Epoch 79/100\n",
      "\u001b[1m79/79\u001b[0m \u001b[32m━━━━━━━━━━━━━━━━━━━━\u001b[0m\u001b[37m\u001b[0m \u001b[1m19s\u001b[0m 234ms/step - accuracy: 0.9116 - loss: 0.3184 - val_accuracy: 0.8448 - val_loss: 0.6394\n",
      "Epoch 80/100\n",
      "\u001b[1m79/79\u001b[0m \u001b[32m━━━━━━━━━━━━━━━━━━━━\u001b[0m\u001b[37m\u001b[0m \u001b[1m19s\u001b[0m 234ms/step - accuracy: 0.9145 - loss: 0.3088 - val_accuracy: 0.8451 - val_loss: 0.6377\n",
      "Epoch 81/100\n",
      "\u001b[1m79/79\u001b[0m \u001b[32m━━━━━━━━━━━━━━━━━━━━\u001b[0m\u001b[37m\u001b[0m \u001b[1m19s\u001b[0m 234ms/step - accuracy: 0.9167 - loss: 0.3037 - val_accuracy: 0.8448 - val_loss: 0.6417\n",
      "Epoch 82/100\n",
      "\u001b[1m79/79\u001b[0m \u001b[32m━━━━━━━━━━━━━━━━━━━━\u001b[0m\u001b[37m\u001b[0m \u001b[1m19s\u001b[0m 234ms/step - accuracy: 0.9136 - loss: 0.3073 - val_accuracy: 0.8446 - val_loss: 0.6439\n",
      "Epoch 83/100\n",
      "\u001b[1m79/79\u001b[0m \u001b[32m━━━━━━━━━━━━━━━━━━━━\u001b[0m\u001b[37m\u001b[0m \u001b[1m19s\u001b[0m 235ms/step - accuracy: 0.9086 - loss: 0.3224 - val_accuracy: 0.8464 - val_loss: 0.6455\n",
      "Epoch 84/100\n",
      "\u001b[1m79/79\u001b[0m \u001b[32m━━━━━━━━━━━━━━━━━━━━\u001b[0m\u001b[37m\u001b[0m \u001b[1m19s\u001b[0m 234ms/step - accuracy: 0.9179 - loss: 0.2952 - val_accuracy: 0.8466 - val_loss: 0.6424\n",
      "Epoch 85/100\n",
      "\u001b[1m79/79\u001b[0m \u001b[32m━━━━━━━━━━━━━━━━━━━━\u001b[0m\u001b[37m\u001b[0m \u001b[1m19s\u001b[0m 234ms/step - accuracy: 0.9176 - loss: 0.2978 - val_accuracy: 0.8460 - val_loss: 0.6472\n",
      "Epoch 86/100\n",
      "\u001b[1m79/79\u001b[0m \u001b[32m━━━━━━━━━━━━━━━━━━━━\u001b[0m\u001b[37m\u001b[0m \u001b[1m19s\u001b[0m 234ms/step - accuracy: 0.9178 - loss: 0.2949 - val_accuracy: 0.8474 - val_loss: 0.6441\n",
      "Epoch 87/100\n",
      "\u001b[1m79/79\u001b[0m \u001b[32m━━━━━━━━━━━━━━━━━━━━\u001b[0m\u001b[37m\u001b[0m \u001b[1m18s\u001b[0m 233ms/step - accuracy: 0.9220 - loss: 0.2819 - val_accuracy: 0.8468 - val_loss: 0.6469\n",
      "Epoch 88/100\n",
      "\u001b[1m79/79\u001b[0m \u001b[32m━━━━━━━━━━━━━━━━━━━━\u001b[0m\u001b[37m\u001b[0m \u001b[1m19s\u001b[0m 234ms/step - accuracy: 0.9212 - loss: 0.2815 - val_accuracy: 0.8468 - val_loss: 0.6570\n",
      "Epoch 89/100\n",
      "\u001b[1m79/79\u001b[0m \u001b[32m━━━━━━━━━━━━━━━━━━━━\u001b[0m\u001b[37m\u001b[0m \u001b[1m19s\u001b[0m 234ms/step - accuracy: 0.9196 - loss: 0.2878 - val_accuracy: 0.8493 - val_loss: 0.6475\n",
      "Epoch 90/100\n",
      "\u001b[1m79/79\u001b[0m \u001b[32m━━━━━━━━━━━━━━━━━━━━\u001b[0m\u001b[37m\u001b[0m \u001b[1m19s\u001b[0m 234ms/step - accuracy: 0.9246 - loss: 0.2727 - val_accuracy: 0.8474 - val_loss: 0.6524\n",
      "Epoch 91/100\n",
      "\u001b[1m79/79\u001b[0m \u001b[32m━━━━━━━━━━━━━━━━━━━━\u001b[0m\u001b[37m\u001b[0m \u001b[1m19s\u001b[0m 234ms/step - accuracy: 0.9229 - loss: 0.2769 - val_accuracy: 0.8499 - val_loss: 0.6509\n",
      "Epoch 92/100\n",
      "\u001b[1m79/79\u001b[0m \u001b[32m━━━━━━━━━━━━━━━━━━━━\u001b[0m\u001b[37m\u001b[0m \u001b[1m19s\u001b[0m 235ms/step - accuracy: 0.9231 - loss: 0.2773 - val_accuracy: 0.8491 - val_loss: 0.6551\n",
      "Epoch 93/100\n",
      "\u001b[1m79/79\u001b[0m \u001b[32m━━━━━━━━━━━━━━━━━━━━\u001b[0m\u001b[37m\u001b[0m \u001b[1m19s\u001b[0m 234ms/step - accuracy: 0.9254 - loss: 0.2689 - val_accuracy: 0.8505 - val_loss: 0.6534\n",
      "Epoch 94/100\n",
      "\u001b[1m79/79\u001b[0m \u001b[32m━━━━━━━━━━━━━━━━━━━━\u001b[0m\u001b[37m\u001b[0m \u001b[1m19s\u001b[0m 234ms/step - accuracy: 0.9247 - loss: 0.2709 - val_accuracy: 0.8475 - val_loss: 0.6636\n",
      "Epoch 95/100\n",
      "\u001b[1m79/79\u001b[0m \u001b[32m━━━━━━━━━━━━━━━━━━━━\u001b[0m\u001b[37m\u001b[0m \u001b[1m19s\u001b[0m 235ms/step - accuracy: 0.9236 - loss: 0.2711 - val_accuracy: 0.8489 - val_loss: 0.6580\n",
      "Epoch 96/100\n",
      "\u001b[1m79/79\u001b[0m \u001b[32m━━━━━━━━━━━━━━━━━━━━\u001b[0m\u001b[37m\u001b[0m \u001b[1m19s\u001b[0m 234ms/step - accuracy: 0.9266 - loss: 0.2640 - val_accuracy: 0.8511 - val_loss: 0.6555\n",
      "Epoch 97/100\n",
      "\u001b[1m79/79\u001b[0m \u001b[32m━━━━━━━━━━━━━━━━━━━━\u001b[0m\u001b[37m\u001b[0m \u001b[1m19s\u001b[0m 234ms/step - accuracy: 0.9241 - loss: 0.2691 - val_accuracy: 0.8500 - val_loss: 0.6599\n",
      "Epoch 98/100\n",
      "\u001b[1m79/79\u001b[0m \u001b[32m━━━━━━━━━━━━━━━━━━━━\u001b[0m\u001b[37m\u001b[0m \u001b[1m19s\u001b[0m 234ms/step - accuracy: 0.9258 - loss: 0.2652 - val_accuracy: 0.8497 - val_loss: 0.6635\n",
      "Epoch 99/100\n",
      "\u001b[1m79/79\u001b[0m \u001b[32m━━━━━━━━━━━━━━━━━━━━\u001b[0m\u001b[37m\u001b[0m \u001b[1m19s\u001b[0m 234ms/step - accuracy: 0.9286 - loss: 0.2587 - val_accuracy: 0.8518 - val_loss: 0.6645\n",
      "Epoch 100/100\n",
      "\u001b[1m79/79\u001b[0m \u001b[32m━━━━━━━━━━━━━━━━━━━━\u001b[0m\u001b[37m\u001b[0m \u001b[1m19s\u001b[0m 234ms/step - accuracy: 0.9262 - loss: 0.2615 - val_accuracy: 0.8521 - val_loss: 0.6632\n",
      "Training complete!\n"
     ]
    }
   ],
   "source": [
    "# Train model\n",
    "history = model.fit(\n",
    "    [X_train, decoder_train], y_train,\n",
    "    validation_data=([X_test, decoder_test], y_test),\n",
    "    epochs=100,\n",
    "    batch_size=32\n",
    ")\n",
    "\n",
    "print(\"Training complete!\")"
   ]
  },
  {
   "cell_type": "code",
   "execution_count": null,
   "id": "ec3097be",
   "metadata": {
    "papermill": {
     "duration": 0.418517,
     "end_time": "2025-03-15T14:29:38.210682",
     "exception": false,
     "start_time": "2025-03-15T14:29:37.792165",
     "status": "completed"
    },
    "tags": []
   },
   "outputs": [],
   "source": []
  }
 ],
 "metadata": {
  "kaggle": {
   "accelerator": "gpu",
   "dataSources": [
    {
     "datasetId": 5793,
     "sourceId": 9812,
     "sourceType": "datasetVersion"
    }
   ],
   "dockerImageVersionId": 30919,
   "isGpuEnabled": true,
   "isInternetEnabled": true,
   "language": "python",
   "sourceType": "notebook"
  },
  "kernelspec": {
   "display_name": "Python 3",
   "language": "python",
   "name": "python3"
  },
  "language_info": {
   "codemirror_mode": {
    "name": "ipython",
    "version": 3
   },
   "file_extension": ".py",
   "mimetype": "text/x-python",
   "name": "python",
   "nbconvert_exporter": "python",
   "pygments_lexer": "ipython3",
   "version": "3.10.12"
  },
  "papermill": {
   "default_parameters": {},
   "duration": 2006.896995,
   "end_time": "2025-03-15T14:29:41.386302",
   "environment_variables": {},
   "exception": null,
   "input_path": "__notebook__.ipynb",
   "output_path": "__notebook__.ipynb",
   "parameters": {},
   "start_time": "2025-03-15T13:56:14.489307",
   "version": "2.6.0"
  }
 },
 "nbformat": 4,
 "nbformat_minor": 5
}
